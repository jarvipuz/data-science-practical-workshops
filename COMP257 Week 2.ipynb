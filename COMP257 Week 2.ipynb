{
 "cells": [
  {
   "cell_type": "markdown",
   "metadata": {},
   "source": [
    "The goal this week is to pratice using Markdown to write descriptive text in notebooks and then look at Python data structures including the pandas module that supports data structures designed for handling the kind of data we'll be working with.  \n",
    "\n",
    "There is probably too much work to complete here in the workshop session, but please use this notebook after the workshop to practice your Python.  Remember to commit your changes to git as you go and push back to Github when you are done."
   ]
  },
  {
   "cell_type": "code",
   "execution_count": 1,
   "metadata": {},
   "outputs": [],
   "source": [
    "student_name = \"Jan Arvin Lapuz\"\n",
    "student_id = \"45758891\""
   ]
  },
  {
   "cell_type": "markdown",
   "metadata": {},
   "source": [
    "## Markdown Practice\n",
    "\n",
    "Complete this section as per the instructions in the iLearn practical page.  Add the required cells below this one."
   ]
  },
  {
   "cell_type": "markdown",
   "metadata": {},
   "source": [
    "## Markdown Samples ##\n",
    "\n",
    "Here are three useful features of [Markdown](https://daringfireball.net/projects/markdown/):\n",
    "\n",
    "1. It is easy to write\n",
    "2. It can be turned to HTML automatically\n",
    "3. It can be used to add simple formatting to text\n",
    "    * for example **bold text** and *italics*\n",
    "    * also different paragraph structures\n",
    "\n",
    "This expression $\\sqrt{3x - 1} + (1 + x)^2$ is an example of a TeX inline equation in a [Markdown-formatted](https://daringfireball.net/projects/markdown/) sentence.\n",
    "\n",
    "Here is a sample code:\n",
    "\n",
    "    git pull --rebase upstream master\n",
    "    \n",
    "and here is an image inserted into the page:\n",
    "\n",
    "<img src=\"https://git-scm.com/images/logos/downloads/Git-Logo-2Color.png\" width=\"100\">"
   ]
  },
  {
   "cell_type": "markdown",
   "metadata": {},
   "source": [
    "\n",
    "\n",
    "## Lists and Dictionaries\n",
    "\n",
    "First we look at some built in Python data structures: lists and dictionaries. \n",
    "\n",
    "A list is a sequence of things, unlike strongly typed languages (Java, C#) a list can contain a mixture of different types - there is no type for a list of integers or a list of lists.   Here are some lists:"
   ]
  },
  {
   "cell_type": "code",
   "execution_count": 2,
   "metadata": {},
   "outputs": [],
   "source": [
    "ages = [12, 99, 51, 3, 55]\n",
    "names = ['steve', 'jim', 'mary', 'carrie', 'zin']\n",
    "stuff = [12, 'eighteen', 6, ['another', 'list']]"
   ]
  },
  {
   "cell_type": "markdown",
   "metadata": {},
   "source": [
    "1. write code to print the first and third elements of each list\n",
    "2. write code to select and print everything except the first element of each list\n",
    "3. write a for loop that prints each element of the 'names' list"
   ]
  },
  {
   "cell_type": "code",
   "execution_count": 6,
   "metadata": {},
   "outputs": [
    {
     "name": "stdout",
     "output_type": "stream",
     "text": [
      "12\n",
      "51\n",
      "steve\n",
      "mary\n",
      "12\n",
      "6\n"
     ]
    }
   ],
   "source": [
    "# write code here\n",
    "def printElements(data):\n",
    "    for i in [0, 2]:\n",
    "        print(data[i])\n",
    "        \n",
    "printElements(ages)\n",
    "printElements(names)\n",
    "printElements(stuff)"
   ]
  },
  {
   "cell_type": "code",
   "execution_count": 8,
   "metadata": {},
   "outputs": [
    {
     "name": "stdout",
     "output_type": "stream",
     "text": [
      "12\n",
      "51\n",
      "steve\n",
      "mary\n",
      "12\n",
      "6\n"
     ]
    }
   ],
   "source": [
    "def first_third_element(list):\n",
    "    first_element = list[0]\n",
    "    third_element = list[2]\n",
    "    print(first_element)\n",
    "    print(third_element)\n",
    "    \n",
    "first_third_element(ages)\n",
    "first_third_element(names)\n",
    "first_third_element(stuff)"
   ]
  },
  {
   "cell_type": "markdown",
   "metadata": {},
   "source": [
    "A dictionary is an associative array - it associates a value (any Python data type) with a key. The key is usually a string but can be any immutable type (string, number, tuple).  Here's some code that counts the occurence of words in a string.  It stores the count for each word in a dictionary using the word as a key. If the word is already stored in the dictionary, it adds one to the count, if not, it initialises the count to one.  \n",
    "\n",
    "The second for loop iterates over the keys in the dictionary and prints one line per entry.\n",
    "\n",
    "Modify this example to be a bit smarter:\n",
    "- make sure that punctuation characters are not included as parts of a word, be careful with hyphens - should they be included or not?\n",
    "- make the count use the lowercase version of a word, so that 'The' and 'the' are counted as the same word\n",
    "- **Challenge**: find the first and second most frequent words in the text\n",
    "- **Challenge**: take your code and write it as a function that takes a string and returns a list of words with their counts in order"
   ]
  },
  {
   "cell_type": "code",
   "execution_count": 9,
   "metadata": {},
   "outputs": [
    {
     "name": "stdout",
     "output_type": "stream",
     "text": [
      "This 1\n",
      "unit 3\n",
      "introduces 1\n",
      "students 1\n",
      "to 4\n",
      "the 5\n",
      "fundamental 1\n",
      "techniques 1\n",
      "and 3\n",
      "tools 2\n",
      "of 3\n",
      "data 5\n",
      "science, 1\n",
      "such 1\n",
      "as 1\n",
      "graphical 1\n",
      "display 1\n",
      "data, 1\n",
      "predictive 1\n",
      "models, 1\n",
      "evaluation 1\n",
      "methodologies, 1\n",
      "regression, 1\n",
      "classification 1\n",
      "clustering. 1\n",
      "The 1\n",
      "provides 1\n",
      "practical 1\n",
      "experience 1\n",
      "applying 1\n",
      "these 2\n",
      "methods 3\n",
      "using 1\n",
      "industry-standard 1\n",
      "software 1\n",
      "real-world 2\n",
      "sets. 1\n",
      "Students 1\n",
      "who 1\n",
      "have 2\n",
      "completed 1\n",
      "this 1\n",
      "will 1\n",
      "be 1\n",
      "able 1\n",
      "identify 1\n",
      "which 1\n",
      "science 1\n",
      "are 1\n",
      "most 1\n",
      "appropriate 1\n",
      "for 1\n",
      "a 1\n",
      "set, 2\n",
      "apply 1\n",
      "interpret 1\n",
      "results 1\n",
      "analysis 1\n",
      "they 1\n",
      "performed. 1\n"
     ]
    }
   ],
   "source": [
    "description = \"\"\"This unit introduces students to the fundamental techniques and \n",
    "tools of data science, such as the graphical display of data, \n",
    "predictive models, evaluation methodologies, regression, \n",
    "classification and clustering. The unit provides practical \n",
    "experience applying these methods using industry-standard \n",
    "software tools to real-world data sets. Students who have \n",
    "completed this unit will be able to identify which data \n",
    "science methods are most appropriate for a real-world data \n",
    "set, apply these methods to the data set, and interpret the \n",
    "results of the analysis they have performed. \"\"\"\n",
    "\n",
    "count = dict()\n",
    "for word in description.split():\n",
    "    if word in count:\n",
    "        count[word] += 1\n",
    "    else:\n",
    "        count[word] = 1\n",
    "        \n",
    "for word in count:\n",
    "    print(word, count[word])"
   ]
  },
  {
   "cell_type": "code",
   "execution_count": 10,
   "metadata": {},
   "outputs": [
    {
     "name": "stdout",
     "output_type": "stream",
     "text": [
      "This unit introduces students to the fundamental techniques and \n",
      "tools of data science such as the graphical display of data \n",
      "predictive models evaluation methodologies regression \n",
      "classification and clustering The unit provides practical \n",
      "experience applying these methods using industrystandard \n",
      "software tools to realworld data sets Students who have \n",
      "completed this unit will be able to identify which data \n",
      "science methods are most appropriate for a realworld data \n",
      "set apply these methods to the data set and interpret the \n",
      "results of the analysis they have performed \n"
     ]
    }
   ],
   "source": [
    "import re\n",
    "cleanedDescription = re.sub(r'[^\\w\\s]', '', description)\n",
    "print(cleanedDescription)"
   ]
  },
  {
   "cell_type": "code",
   "execution_count": 11,
   "metadata": {},
   "outputs": [
    {
     "name": "stdout",
     "output_type": "stream",
     "text": [
      "This unit introduces students to the fundamental techniques and \n",
      "tools of data science such as the graphical display of data \n",
      "predictive models evaluation methodologies regression \n",
      "classification and clustering The unit provides practical \n",
      "experience applying these methods using industry-standard \n",
      "software tools to real-world data sets Students who have \n",
      "completed this unit will be able to identify which data \n",
      "science methods are most appropriate for a real-world data \n",
      "set apply these methods to the data set and interpret the \n",
      "results of the analysis they have performed \n"
     ]
    }
   ],
   "source": [
    "cleanedDescription = re.sub(r'[,@\\.]', '', description)\n",
    "print(cleanedDescription)"
   ]
  },
  {
   "cell_type": "code",
   "execution_count": 19,
   "metadata": {},
   "outputs": [
    {
     "name": "stdout",
     "output_type": "stream",
     "text": [
      "this 2\n",
      "unit 3\n",
      "introduces 1\n",
      "students 2\n",
      "to 4\n",
      "the 6\n",
      "fundamental 1\n",
      "techniques 1\n",
      "and 3\n",
      "tools 2\n",
      "of 3\n",
      "data 6\n",
      "science 2\n",
      "such 1\n",
      "as 1\n",
      "graphical 1\n",
      "display 1\n",
      "predictive 1\n",
      "models 1\n",
      "evaluation 1\n",
      "methodologies 1\n",
      "regression 1\n",
      "classification 1\n",
      "clustering 1\n",
      "provides 1\n",
      "practical 1\n",
      "experience 1\n",
      "applying 1\n",
      "these 2\n",
      "methods 3\n",
      "using 1\n",
      "industry-standard 1\n",
      "software 1\n",
      "real-world 2\n",
      "sets 1\n",
      "who 1\n",
      "have 2\n",
      "completed 1\n",
      "will 1\n",
      "be 1\n",
      "able 1\n",
      "identify 1\n",
      "which 1\n",
      "are 1\n",
      "most 1\n",
      "appropriate 1\n",
      "for 1\n",
      "a 1\n",
      "set 2\n",
      "apply 1\n",
      "interpret 1\n",
      "results 1\n",
      "analysis 1\n",
      "they 1\n",
      "performed 1\n"
     ]
    },
    {
     "data": {
      "text/plain": [
       "Counter({'this': 2,\n",
       "         'unit': 3,\n",
       "         'introduces': 1,\n",
       "         'students': 2,\n",
       "         'to': 4,\n",
       "         'the': 6,\n",
       "         'fundamental': 1,\n",
       "         'techniques': 1,\n",
       "         'and': 3,\n",
       "         'tools': 2,\n",
       "         'of': 3,\n",
       "         'data': 6,\n",
       "         'science': 2,\n",
       "         'such': 1,\n",
       "         'as': 1,\n",
       "         'graphical': 1,\n",
       "         'display': 1,\n",
       "         'predictive': 1,\n",
       "         'models': 1,\n",
       "         'evaluation': 1,\n",
       "         'methodologies': 1,\n",
       "         'regression': 1,\n",
       "         'classification': 1,\n",
       "         'clustering': 1,\n",
       "         'provides': 1,\n",
       "         'practical': 1,\n",
       "         'experience': 1,\n",
       "         'applying': 1,\n",
       "         'these': 2,\n",
       "         'methods': 3,\n",
       "         'using': 1,\n",
       "         'industry-standard': 1,\n",
       "         'software': 1,\n",
       "         'real-world': 2,\n",
       "         'sets': 1,\n",
       "         'who': 1,\n",
       "         'have': 2,\n",
       "         'completed': 1,\n",
       "         'will': 1,\n",
       "         'be': 1,\n",
       "         'able': 1,\n",
       "         'identify': 1,\n",
       "         'which': 1,\n",
       "         'are': 1,\n",
       "         'most': 1,\n",
       "         'appropriate': 1,\n",
       "         'for': 1,\n",
       "         'a': 1,\n",
       "         'set': 2,\n",
       "         'apply': 1,\n",
       "         'interpret': 1,\n",
       "         'results': 1,\n",
       "         'analysis': 1,\n",
       "         'they': 1,\n",
       "         'performed': 1})"
      ]
     },
     "execution_count": 19,
     "metadata": {},
     "output_type": "execute_result"
    }
   ],
   "source": [
    "desc = cleanedDescription.lower()\n",
    "desc\n",
    "from collections import Counter, OrderedDict\n",
    "\n",
    "c = Counter(desc.split())\n",
    "for word in c:\n",
    "    print(word, c[word])"
   ]
  },
  {
   "cell_type": "code",
   "execution_count": 26,
   "metadata": {},
   "outputs": [
    {
     "data": {
      "text/plain": [
       "[('the', 6), ('data', 6), ('to', 4), ('unit', 3), ('and', 3)]"
      ]
     },
     "execution_count": 26,
     "metadata": {},
     "output_type": "execute_result"
    }
   ],
   "source": [
    "c.most_common(5)"
   ]
  },
  {
   "cell_type": "code",
   "execution_count": 27,
   "metadata": {},
   "outputs": [
    {
     "data": {
      "text/plain": [
       "OrderedDict([('the', 6),\n",
       "             ('data', 6),\n",
       "             ('to', 4),\n",
       "             ('unit', 3),\n",
       "             ('and', 3),\n",
       "             ('of', 3),\n",
       "             ('methods', 3),\n",
       "             ('this', 2),\n",
       "             ('students', 2),\n",
       "             ('tools', 2),\n",
       "             ('science', 2),\n",
       "             ('these', 2),\n",
       "             ('real-world', 2),\n",
       "             ('have', 2),\n",
       "             ('set', 2),\n",
       "             ('introduces', 1),\n",
       "             ('fundamental', 1),\n",
       "             ('techniques', 1),\n",
       "             ('such', 1),\n",
       "             ('as', 1),\n",
       "             ('graphical', 1),\n",
       "             ('display', 1),\n",
       "             ('predictive', 1),\n",
       "             ('models', 1),\n",
       "             ('evaluation', 1),\n",
       "             ('methodologies', 1),\n",
       "             ('regression', 1),\n",
       "             ('classification', 1),\n",
       "             ('clustering', 1),\n",
       "             ('provides', 1),\n",
       "             ('practical', 1),\n",
       "             ('experience', 1),\n",
       "             ('applying', 1),\n",
       "             ('using', 1),\n",
       "             ('industry-standard', 1),\n",
       "             ('software', 1),\n",
       "             ('sets', 1),\n",
       "             ('who', 1),\n",
       "             ('completed', 1),\n",
       "             ('will', 1),\n",
       "             ('be', 1),\n",
       "             ('able', 1),\n",
       "             ('identify', 1),\n",
       "             ('which', 1),\n",
       "             ('are', 1),\n",
       "             ('most', 1),\n",
       "             ('appropriate', 1),\n",
       "             ('for', 1),\n",
       "             ('a', 1),\n",
       "             ('apply', 1),\n",
       "             ('interpret', 1),\n",
       "             ('results', 1),\n",
       "             ('analysis', 1),\n",
       "             ('they', 1),\n",
       "             ('performed', 1)])"
      ]
     },
     "execution_count": 27,
     "metadata": {},
     "output_type": "execute_result"
    }
   ],
   "source": [
    "y = OrderedDict(c.most_common())\n",
    "y"
   ]
  },
  {
   "cell_type": "markdown",
   "metadata": {},
   "source": [
    "## Pandas Data Frames\n",
    "\n",
    "[Pandas](https://pandas.pydata.org) is a Python module that provides some important data structures for Data Science work and a large collection of methods for data analysis. \n",
    "\n",
    "The two main data structures are the [Series]() and [DataFrame](http://pandas.pydata.org/pandas-docs/stable/dsintro.html#dataframe).  \n",
    "\n",
    "A Series is a one dimensional array of data, but unlike the Python list the data is indexed - the index is like the dictionary key, any immutable value like a number or string.  You can use the label to select elements from the series as well as positional values.  \n",
    "\n",
    "A DataFrame is analogous to a spreadsheet - a two dimensional table of data with indexed rows and named columns. \n",
    "\n",
    "You should read up on these and follow the examples in the text.  Here are a few exercises to complete with data frames."
   ]
  },
  {
   "cell_type": "markdown",
   "metadata": {},
   "source": [
    "You are given three csv files containing sample data."
   ]
  },
  {
   "cell_type": "code",
   "execution_count": 29,
   "metadata": {},
   "outputs": [],
   "source": [
    "import pandas as pd\n",
    "import numpy as np\n",
    "import matplotlib.pyplot as plt\n",
    "%matplotlib inline\n",
    "\n",
    "ds1 = 'data/ds1.csv'\n",
    "ds2 = 'data/ds2.csv'\n",
    "ds3 = 'data/ds3.csv'"
   ]
  },
  {
   "cell_type": "markdown",
   "metadata": {},
   "source": [
    "Write code below to read one of these data files into a pandas data frame and:\n",
    "- show the first few rows: .head\n",
    "- find the summary data for each column: .describe\n",
    "- select just those rows where the value of x and y is over 50\n",
    "- select the column 'x' and create a series\n",
    "- plot the 'x' series as a line graph\n",
    "- plot the dataframe as a scatterplot\n",
    "\n",
    "Once you have the code for this, you can change the file you use for input of the data (ds2, ds3) and re-run the following cells to see the different output that is generated"
   ]
  },
  {
   "cell_type": "code",
   "execution_count": 40,
   "metadata": {},
   "outputs": [
    {
     "name": "stdout",
     "output_type": "stream",
     "text": [
      "(142, 2)\n",
      "         x        y\n",
      "0  55.3846  97.1795\n",
      "1  51.5385  96.0256\n",
      "2  46.1538  94.4872\n",
      "3  42.8205  91.4103\n",
      "4  40.7692  88.3333\n",
      "           x        y\n",
      "137  39.4872  25.3846\n",
      "138  91.2821  41.5385\n",
      "139  50.0000  95.7692\n",
      "140  47.9487  95.0000\n",
      "141  44.1026  92.6923\n"
     ]
    }
   ],
   "source": [
    "# write your code here\n",
    "\n",
    "df = pd.read_csv(ds1)\n",
    "print(df.shape)\n",
    "# print(df)\n",
    "print(df.head())\n",
    "print(df.tail())"
   ]
  },
  {
   "cell_type": "code",
   "execution_count": 41,
   "metadata": {},
   "outputs": [
    {
     "data": {
      "text/html": [
       "<div>\n",
       "<style scoped>\n",
       "    .dataframe tbody tr th:only-of-type {\n",
       "        vertical-align: middle;\n",
       "    }\n",
       "\n",
       "    .dataframe tbody tr th {\n",
       "        vertical-align: top;\n",
       "    }\n",
       "\n",
       "    .dataframe thead th {\n",
       "        text-align: right;\n",
       "    }\n",
       "</style>\n",
       "<table border=\"1\" class=\"dataframe\">\n",
       "  <thead>\n",
       "    <tr style=\"text-align: right;\">\n",
       "      <th></th>\n",
       "      <th>x</th>\n",
       "      <th>y</th>\n",
       "    </tr>\n",
       "  </thead>\n",
       "  <tbody>\n",
       "    <tr>\n",
       "      <th>count</th>\n",
       "      <td>142.000000</td>\n",
       "      <td>142.000000</td>\n",
       "    </tr>\n",
       "    <tr>\n",
       "      <th>mean</th>\n",
       "      <td>54.263273</td>\n",
       "      <td>47.832253</td>\n",
       "    </tr>\n",
       "    <tr>\n",
       "      <th>std</th>\n",
       "      <td>16.765142</td>\n",
       "      <td>26.935403</td>\n",
       "    </tr>\n",
       "    <tr>\n",
       "      <th>min</th>\n",
       "      <td>22.307700</td>\n",
       "      <td>2.948700</td>\n",
       "    </tr>\n",
       "    <tr>\n",
       "      <th>25%</th>\n",
       "      <td>44.102600</td>\n",
       "      <td>25.288450</td>\n",
       "    </tr>\n",
       "    <tr>\n",
       "      <th>50%</th>\n",
       "      <td>53.333300</td>\n",
       "      <td>46.025600</td>\n",
       "    </tr>\n",
       "    <tr>\n",
       "      <th>75%</th>\n",
       "      <td>64.743600</td>\n",
       "      <td>68.525675</td>\n",
       "    </tr>\n",
       "    <tr>\n",
       "      <th>max</th>\n",
       "      <td>98.205100</td>\n",
       "      <td>99.487200</td>\n",
       "    </tr>\n",
       "  </tbody>\n",
       "</table>\n",
       "</div>"
      ],
      "text/plain": [
       "                x           y\n",
       "count  142.000000  142.000000\n",
       "mean    54.263273   47.832253\n",
       "std     16.765142   26.935403\n",
       "min     22.307700    2.948700\n",
       "25%     44.102600   25.288450\n",
       "50%     53.333300   46.025600\n",
       "75%     64.743600   68.525675\n",
       "max     98.205100   99.487200"
      ]
     },
     "execution_count": 41,
     "metadata": {},
     "output_type": "execute_result"
    }
   ],
   "source": [
    "df.describe()"
   ]
  },
  {
   "cell_type": "code",
   "execution_count": 54,
   "metadata": {},
   "outputs": [
    {
     "data": {
      "text/plain": [
       "(33, 2)"
      ]
     },
     "execution_count": 54,
     "metadata": {},
     "output_type": "execute_result"
    }
   ],
   "source": [
    "x50 = df['x'] > 50\n",
    "y50 = df['y'] > 50\n",
    "new_df = df[x50 & y50]\n",
    "new_df"
   ]
  },
  {
   "cell_type": "code",
   "execution_count": 65,
   "metadata": {},
   "outputs": [
    {
     "data": {
      "text/html": [
       "<div>\n",
       "<style scoped>\n",
       "    .dataframe tbody tr th:only-of-type {\n",
       "        vertical-align: middle;\n",
       "    }\n",
       "\n",
       "    .dataframe tbody tr th {\n",
       "        vertical-align: top;\n",
       "    }\n",
       "\n",
       "    .dataframe thead th {\n",
       "        text-align: right;\n",
       "    }\n",
       "</style>\n",
       "<table border=\"1\" class=\"dataframe\">\n",
       "  <thead>\n",
       "    <tr style=\"text-align: right;\">\n",
       "      <th></th>\n",
       "      <th>x</th>\n",
       "      <th>y</th>\n",
       "    </tr>\n",
       "  </thead>\n",
       "  <tbody>\n",
       "    <tr>\n",
       "      <th>0</th>\n",
       "      <td>55.3846</td>\n",
       "      <td>97.1795</td>\n",
       "    </tr>\n",
       "    <tr>\n",
       "      <th>1</th>\n",
       "      <td>51.5385</td>\n",
       "      <td>96.0256</td>\n",
       "    </tr>\n",
       "    <tr>\n",
       "      <th>22</th>\n",
       "      <td>53.0769</td>\n",
       "      <td>55.6410</td>\n",
       "    </tr>\n",
       "    <tr>\n",
       "      <th>23</th>\n",
       "      <td>56.6667</td>\n",
       "      <td>56.0256</td>\n",
       "    </tr>\n",
       "    <tr>\n",
       "      <th>24</th>\n",
       "      <td>59.2308</td>\n",
       "      <td>57.9487</td>\n",
       "    </tr>\n",
       "    <tr>\n",
       "      <th>25</th>\n",
       "      <td>61.2821</td>\n",
       "      <td>62.1795</td>\n",
       "    </tr>\n",
       "    <tr>\n",
       "      <th>26</th>\n",
       "      <td>61.5385</td>\n",
       "      <td>66.4103</td>\n",
       "    </tr>\n",
       "    <tr>\n",
       "      <th>27</th>\n",
       "      <td>61.7949</td>\n",
       "      <td>69.1026</td>\n",
       "    </tr>\n",
       "    <tr>\n",
       "      <th>28</th>\n",
       "      <td>57.4359</td>\n",
       "      <td>55.2564</td>\n",
       "    </tr>\n",
       "    <tr>\n",
       "      <th>29</th>\n",
       "      <td>54.8718</td>\n",
       "      <td>49.8718</td>\n",
       "    </tr>\n",
       "    <tr>\n",
       "      <th>30</th>\n",
       "      <td>52.5641</td>\n",
       "      <td>46.0256</td>\n",
       "    </tr>\n",
       "    <tr>\n",
       "      <th>33</th>\n",
       "      <td>51.0256</td>\n",
       "      <td>44.1026</td>\n",
       "    </tr>\n",
       "    <tr>\n",
       "      <th>52</th>\n",
       "      <td>51.5385</td>\n",
       "      <td>34.8718</td>\n",
       "    </tr>\n",
       "    <tr>\n",
       "      <th>53</th>\n",
       "      <td>53.5897</td>\n",
       "      <td>37.5641</td>\n",
       "    </tr>\n",
       "    <tr>\n",
       "      <th>54</th>\n",
       "      <td>55.1282</td>\n",
       "      <td>40.6410</td>\n",
       "    </tr>\n",
       "    <tr>\n",
       "      <th>55</th>\n",
       "      <td>56.6667</td>\n",
       "      <td>42.1795</td>\n",
       "    </tr>\n",
       "    <tr>\n",
       "      <th>56</th>\n",
       "      <td>59.2308</td>\n",
       "      <td>44.4872</td>\n",
       "    </tr>\n",
       "    <tr>\n",
       "      <th>57</th>\n",
       "      <td>62.3077</td>\n",
       "      <td>46.0256</td>\n",
       "    </tr>\n",
       "    <tr>\n",
       "      <th>58</th>\n",
       "      <td>64.8718</td>\n",
       "      <td>46.7949</td>\n",
       "    </tr>\n",
       "    <tr>\n",
       "      <th>59</th>\n",
       "      <td>67.9487</td>\n",
       "      <td>47.9487</td>\n",
       "    </tr>\n",
       "    <tr>\n",
       "      <th>60</th>\n",
       "      <td>70.5128</td>\n",
       "      <td>53.7180</td>\n",
       "    </tr>\n",
       "    <tr>\n",
       "      <th>61</th>\n",
       "      <td>71.5385</td>\n",
       "      <td>60.6410</td>\n",
       "    </tr>\n",
       "    <tr>\n",
       "      <th>62</th>\n",
       "      <td>71.5385</td>\n",
       "      <td>64.4872</td>\n",
       "    </tr>\n",
       "    <tr>\n",
       "      <th>63</th>\n",
       "      <td>69.4872</td>\n",
       "      <td>69.4872</td>\n",
       "    </tr>\n",
       "    <tr>\n",
       "      <th>67</th>\n",
       "      <td>53.0769</td>\n",
       "      <td>85.2564</td>\n",
       "    </tr>\n",
       "    <tr>\n",
       "      <th>68</th>\n",
       "      <td>55.3846</td>\n",
       "      <td>86.0256</td>\n",
       "    </tr>\n",
       "    <tr>\n",
       "      <th>69</th>\n",
       "      <td>56.6667</td>\n",
       "      <td>86.0256</td>\n",
       "    </tr>\n",
       "    <tr>\n",
       "      <th>70</th>\n",
       "      <td>56.1538</td>\n",
       "      <td>82.9487</td>\n",
       "    </tr>\n",
       "    <tr>\n",
       "      <th>71</th>\n",
       "      <td>53.8462</td>\n",
       "      <td>80.6410</td>\n",
       "    </tr>\n",
       "    <tr>\n",
       "      <th>72</th>\n",
       "      <td>51.2821</td>\n",
       "      <td>78.7180</td>\n",
       "    </tr>\n",
       "    <tr>\n",
       "      <th>...</th>\n",
       "      <td>...</td>\n",
       "      <td>...</td>\n",
       "    </tr>\n",
       "    <tr>\n",
       "      <th>100</th>\n",
       "      <td>60.7692</td>\n",
       "      <td>33.7180</td>\n",
       "    </tr>\n",
       "    <tr>\n",
       "      <th>101</th>\n",
       "      <td>63.0769</td>\n",
       "      <td>29.1026</td>\n",
       "    </tr>\n",
       "    <tr>\n",
       "      <th>102</th>\n",
       "      <td>64.1026</td>\n",
       "      <td>25.2564</td>\n",
       "    </tr>\n",
       "    <tr>\n",
       "      <th>103</th>\n",
       "      <td>64.3590</td>\n",
       "      <td>24.1026</td>\n",
       "    </tr>\n",
       "    <tr>\n",
       "      <th>104</th>\n",
       "      <td>74.3590</td>\n",
       "      <td>22.9487</td>\n",
       "    </tr>\n",
       "    <tr>\n",
       "      <th>105</th>\n",
       "      <td>71.2821</td>\n",
       "      <td>22.9487</td>\n",
       "    </tr>\n",
       "    <tr>\n",
       "      <th>106</th>\n",
       "      <td>67.9487</td>\n",
       "      <td>22.1795</td>\n",
       "    </tr>\n",
       "    <tr>\n",
       "      <th>107</th>\n",
       "      <td>65.8974</td>\n",
       "      <td>20.2564</td>\n",
       "    </tr>\n",
       "    <tr>\n",
       "      <th>108</th>\n",
       "      <td>63.0769</td>\n",
       "      <td>19.1026</td>\n",
       "    </tr>\n",
       "    <tr>\n",
       "      <th>109</th>\n",
       "      <td>61.2821</td>\n",
       "      <td>19.1026</td>\n",
       "    </tr>\n",
       "    <tr>\n",
       "      <th>110</th>\n",
       "      <td>58.7179</td>\n",
       "      <td>18.3333</td>\n",
       "    </tr>\n",
       "    <tr>\n",
       "      <th>111</th>\n",
       "      <td>55.1282</td>\n",
       "      <td>18.3333</td>\n",
       "    </tr>\n",
       "    <tr>\n",
       "      <th>112</th>\n",
       "      <td>52.3077</td>\n",
       "      <td>18.3333</td>\n",
       "    </tr>\n",
       "    <tr>\n",
       "      <th>117</th>\n",
       "      <td>51.2821</td>\n",
       "      <td>14.8718</td>\n",
       "    </tr>\n",
       "    <tr>\n",
       "      <th>118</th>\n",
       "      <td>54.1026</td>\n",
       "      <td>14.8718</td>\n",
       "    </tr>\n",
       "    <tr>\n",
       "      <th>119</th>\n",
       "      <td>56.1538</td>\n",
       "      <td>14.1026</td>\n",
       "    </tr>\n",
       "    <tr>\n",
       "      <th>120</th>\n",
       "      <td>52.0513</td>\n",
       "      <td>12.5641</td>\n",
       "    </tr>\n",
       "    <tr>\n",
       "      <th>124</th>\n",
       "      <td>50.5128</td>\n",
       "      <td>9.4872</td>\n",
       "    </tr>\n",
       "    <tr>\n",
       "      <th>125</th>\n",
       "      <td>53.8462</td>\n",
       "      <td>10.2564</td>\n",
       "    </tr>\n",
       "    <tr>\n",
       "      <th>126</th>\n",
       "      <td>57.4359</td>\n",
       "      <td>10.2564</td>\n",
       "    </tr>\n",
       "    <tr>\n",
       "      <th>127</th>\n",
       "      <td>60.0000</td>\n",
       "      <td>10.6410</td>\n",
       "    </tr>\n",
       "    <tr>\n",
       "      <th>128</th>\n",
       "      <td>64.1026</td>\n",
       "      <td>10.6410</td>\n",
       "    </tr>\n",
       "    <tr>\n",
       "      <th>129</th>\n",
       "      <td>66.9231</td>\n",
       "      <td>10.6410</td>\n",
       "    </tr>\n",
       "    <tr>\n",
       "      <th>130</th>\n",
       "      <td>71.2821</td>\n",
       "      <td>10.6410</td>\n",
       "    </tr>\n",
       "    <tr>\n",
       "      <th>131</th>\n",
       "      <td>74.3590</td>\n",
       "      <td>10.6410</td>\n",
       "    </tr>\n",
       "    <tr>\n",
       "      <th>132</th>\n",
       "      <td>78.2051</td>\n",
       "      <td>10.6410</td>\n",
       "    </tr>\n",
       "    <tr>\n",
       "      <th>133</th>\n",
       "      <td>67.9487</td>\n",
       "      <td>8.7180</td>\n",
       "    </tr>\n",
       "    <tr>\n",
       "      <th>134</th>\n",
       "      <td>68.4615</td>\n",
       "      <td>5.2564</td>\n",
       "    </tr>\n",
       "    <tr>\n",
       "      <th>135</th>\n",
       "      <td>68.2051</td>\n",
       "      <td>2.9487</td>\n",
       "    </tr>\n",
       "    <tr>\n",
       "      <th>138</th>\n",
       "      <td>91.2821</td>\n",
       "      <td>41.5385</td>\n",
       "    </tr>\n",
       "  </tbody>\n",
       "</table>\n",
       "<p>82 rows × 2 columns</p>\n",
       "</div>"
      ],
      "text/plain": [
       "           x        y\n",
       "0    55.3846  97.1795\n",
       "1    51.5385  96.0256\n",
       "22   53.0769  55.6410\n",
       "23   56.6667  56.0256\n",
       "24   59.2308  57.9487\n",
       "25   61.2821  62.1795\n",
       "26   61.5385  66.4103\n",
       "27   61.7949  69.1026\n",
       "28   57.4359  55.2564\n",
       "29   54.8718  49.8718\n",
       "30   52.5641  46.0256\n",
       "33   51.0256  44.1026\n",
       "52   51.5385  34.8718\n",
       "53   53.5897  37.5641\n",
       "54   55.1282  40.6410\n",
       "55   56.6667  42.1795\n",
       "56   59.2308  44.4872\n",
       "57   62.3077  46.0256\n",
       "58   64.8718  46.7949\n",
       "59   67.9487  47.9487\n",
       "60   70.5128  53.7180\n",
       "61   71.5385  60.6410\n",
       "62   71.5385  64.4872\n",
       "63   69.4872  69.4872\n",
       "67   53.0769  85.2564\n",
       "68   55.3846  86.0256\n",
       "69   56.6667  86.0256\n",
       "70   56.1538  82.9487\n",
       "71   53.8462  80.6410\n",
       "72   51.2821  78.7180\n",
       "..       ...      ...\n",
       "100  60.7692  33.7180\n",
       "101  63.0769  29.1026\n",
       "102  64.1026  25.2564\n",
       "103  64.3590  24.1026\n",
       "104  74.3590  22.9487\n",
       "105  71.2821  22.9487\n",
       "106  67.9487  22.1795\n",
       "107  65.8974  20.2564\n",
       "108  63.0769  19.1026\n",
       "109  61.2821  19.1026\n",
       "110  58.7179  18.3333\n",
       "111  55.1282  18.3333\n",
       "112  52.3077  18.3333\n",
       "117  51.2821  14.8718\n",
       "118  54.1026  14.8718\n",
       "119  56.1538  14.1026\n",
       "120  52.0513  12.5641\n",
       "124  50.5128   9.4872\n",
       "125  53.8462  10.2564\n",
       "126  57.4359  10.2564\n",
       "127  60.0000  10.6410\n",
       "128  64.1026  10.6410\n",
       "129  66.9231  10.6410\n",
       "130  71.2821  10.6410\n",
       "131  74.3590  10.6410\n",
       "132  78.2051  10.6410\n",
       "133  67.9487   8.7180\n",
       "134  68.4615   5.2564\n",
       "135  68.2051   2.9487\n",
       "138  91.2821  41.5385\n",
       "\n",
       "[82 rows x 2 columns]"
      ]
     },
     "execution_count": 65,
     "metadata": {},
     "output_type": "execute_result"
    }
   ],
   "source": [
    "df[df['x'] > 50 & df['y'] > 50]"
   ]
  },
  {
   "cell_type": "code",
   "execution_count": 59,
   "metadata": {},
   "outputs": [
    {
     "data": {
      "text/plain": [
       "0      55.3846\n",
       "1      51.5385\n",
       "2      46.1538\n",
       "3      42.8205\n",
       "4      40.7692\n",
       "5      38.7179\n",
       "6      35.6410\n",
       "7      33.0769\n",
       "8      28.9744\n",
       "9      26.1538\n",
       "10     23.0769\n",
       "11     22.3077\n",
       "12     22.3077\n",
       "13     23.3333\n",
       "14     25.8974\n",
       "15     29.4872\n",
       "16     32.8205\n",
       "17     35.3846\n",
       "18     40.2564\n",
       "19     44.1026\n",
       "20     46.6667\n",
       "21     50.0000\n",
       "22     53.0769\n",
       "23     56.6667\n",
       "24     59.2308\n",
       "25     61.2821\n",
       "26     61.5385\n",
       "27     61.7949\n",
       "28     57.4359\n",
       "29     54.8718\n",
       "        ...   \n",
       "112    52.3077\n",
       "113    49.7436\n",
       "114    47.4359\n",
       "115    44.8718\n",
       "116    48.7179\n",
       "117    51.2821\n",
       "118    54.1026\n",
       "119    56.1538\n",
       "120    52.0513\n",
       "121    48.7179\n",
       "122    47.1795\n",
       "123    46.1538\n",
       "124    50.5128\n",
       "125    53.8462\n",
       "126    57.4359\n",
       "127    60.0000\n",
       "128    64.1026\n",
       "129    66.9231\n",
       "130    71.2821\n",
       "131    74.3590\n",
       "132    78.2051\n",
       "133    67.9487\n",
       "134    68.4615\n",
       "135    68.2051\n",
       "136    37.6923\n",
       "137    39.4872\n",
       "138    91.2821\n",
       "139    50.0000\n",
       "140    47.9487\n",
       "141    44.1026\n",
       "Name: x, Length: 142, dtype: float64"
      ]
     },
     "execution_count": 59,
     "metadata": {},
     "output_type": "execute_result"
    }
   ],
   "source": [
    "]first_colm = df['x']\n",
    "first_colm"
   ]
  },
  {
   "cell_type": "code",
   "execution_count": 60,
   "metadata": {},
   "outputs": [
    {
     "data": {
      "text/plain": [
       "<matplotlib.axes._subplots.AxesSubplot at 0x1baa6934668>"
      ]
     },
     "execution_count": 60,
     "metadata": {},
     "output_type": "execute_result"
    },
    {
     "data": {
      "image/png": "[encoded data removed]",
      "text/plain": [
       "<Figure size 432x288 with 1 Axes>"
      ]
     },
     "metadata": {
      "needs_background": "light"
     },
     "output_type": "display_data"
    }
   ],
   "source": [
    "first_colm = df['x']\n",
    "first_colm.plot()"
   ]
  },
  {
   "cell_type": "code",
   "execution_count": 68,
   "metadata": {},
   "outputs": [
    {
     "data": {
      "text/plain": [
       "<matplotlib.collections.PathCollection at 0x1baa75c2630>"
      ]
     },
     "execution_count": 68,
     "metadata": {},
     "output_type": "execute_result"
    },
    {
     "data": {
      "image/png": "[encoded data removed]",
      "text/plain": [
       "<Figure size 432x288 with 1 Axes>"
      ]
     },
     "metadata": {
      "needs_background": "light"
     },
     "output_type": "display_data"
    }
   ],
   "source": [
    "plt.scatter(df['x'], df['y'])"
   ]
  },
  {
   "cell_type": "code",
   "execution_count": 70,
   "metadata": {},
   "outputs": [
    {
     "data": {
      "text/plain": [
       "<matplotlib.axes._subplots.AxesSubplot at 0x1baa73e3780>"
      ]
     },
     "execution_count": 70,
     "metadata": {},
     "output_type": "execute_result"
    },
    {
     "data": {
      "image/png": "[encoded data removed]",
      "text/plain": [
       "<Figure size 432x288 with 1 Axes>"
      ]
     },
     "metadata": {
      "needs_background": "light"
     },
     "output_type": "display_data"
    }
   ],
   "source": [
    "df.plot.scatter(x = 'x', y = 'y', c = 'DarkBlue')"
   ]
  },
  {
   "cell_type": "code",
   "execution_count": 73,
   "metadata": {},
   "outputs": [
    {
     "data": {
      "text/plain": [
       "(142, 2)"
      ]
     },
     "execution_count": 73,
     "metadata": {},
     "output_type": "execute_result"
    }
   ],
   "source": [
    "df2 = pd.read_csv(ds2)\n",
    "df3 = pd.read_csv(ds3)\n",
    "df2.shape\n",
    "df3.shape"
   ]
  },
  {
   "cell_type": "code",
   "execution_count": 74,
   "metadata": {},
   "outputs": [
    {
     "data": {
      "text/plain": [
       "<matplotlib.axes._subplots.AxesSubplot at 0x1baa70236d8>"
      ]
     },
     "execution_count": 74,
     "metadata": {},
     "output_type": "execute_result"
    },
    {
     "data": {
      "image/png": "[encoded data removed]",
      "text/plain": [
       "<Figure size 432x288 with 1 Axes>"
      ]
     },
     "metadata": {
      "needs_background": "light"
     },
     "output_type": "display_data"
    }
   ],
   "source": [
    "df2.plot.scatter(x = 'x', y = 'y')"
   ]
  },
  {
   "cell_type": "code",
   "execution_count": 76,
   "metadata": {},
   "outputs": [
    {
     "data": {
      "text/plain": [
       "<matplotlib.axes._subplots.AxesSubplot at 0x1baa723f0b8>"
      ]
     },
     "execution_count": 76,
     "metadata": {},
     "output_type": "execute_result"
    },
    {
     "data": {
      "image/png": "[encoded data removed]",
      "text/plain": [
       "<Figure size 432x288 with 1 Axes>"
      ]
     },
     "metadata": {
      "needs_background": "light"
     },
     "output_type": "display_data"
    }
   ],
   "source": [
    "df3.plot.scatter(x = 'x', y = 'y')"
   ]
  },
  {
   "cell_type": "markdown",
   "metadata": {},
   "source": [
    "# Further Practice\n",
    "\n",
    "If you finish this task you can practice more with pandas data frames by following the examples in the text, section 2.6.  The CSV file that they use in that section is available in the `files` directory of this repository as `educ_figdp_1_Data.csv`.   "
   ]
  },
  {
   "cell_type": "code",
   "execution_count": 81,
   "metadata": {},
   "outputs": [
    {
     "data": {
      "text/plain": [
       "<bound method NDFrame.describe of       TIME                            GEO  \\\n",
       "0     2002  European Union (27 countries)   \n",
       "1     2002  European Union (27 countries)   \n",
       "2     2002  European Union (27 countries)   \n",
       "3     2002  European Union (27 countries)   \n",
       "4     2002  European Union (27 countries)   \n",
       "5     2002  European Union (27 countries)   \n",
       "6     2002  European Union (27 countries)   \n",
       "7     2002  European Union (27 countries)   \n",
       "8     2002  European Union (27 countries)   \n",
       "9     2002  European Union (27 countries)   \n",
       "10    2002  European Union (27 countries)   \n",
       "11    2002  European Union (27 countries)   \n",
       "12    2002  European Union (25 countries)   \n",
       "13    2002  European Union (25 countries)   \n",
       "14    2002  European Union (25 countries)   \n",
       "15    2002  European Union (25 countries)   \n",
       "16    2002  European Union (25 countries)   \n",
       "17    2002  European Union (25 countries)   \n",
       "18    2002  European Union (25 countries)   \n",
       "19    2002  European Union (25 countries)   \n",
       "20    2002  European Union (25 countries)   \n",
       "21    2002  European Union (25 countries)   \n",
       "22    2002  European Union (25 countries)   \n",
       "23    2002  European Union (25 countries)   \n",
       "24    2002       Euro area (15 countries)   \n",
       "25    2002       Euro area (15 countries)   \n",
       "26    2002       Euro area (15 countries)   \n",
       "27    2002       Euro area (15 countries)   \n",
       "28    2002       Euro area (15 countries)   \n",
       "29    2002       Euro area (15 countries)   \n",
       "...    ...                            ...   \n",
       "4890  2011                        Albania   \n",
       "4891  2011                        Albania   \n",
       "4892  2011                        Albania   \n",
       "4893  2011                        Albania   \n",
       "4894  2011                        Albania   \n",
       "4895  2011                        Albania   \n",
       "4896  2011                  United States   \n",
       "4897  2011                  United States   \n",
       "4898  2011                  United States   \n",
       "4899  2011                  United States   \n",
       "4900  2011                  United States   \n",
       "4901  2011                  United States   \n",
       "4902  2011                  United States   \n",
       "4903  2011                  United States   \n",
       "4904  2011                  United States   \n",
       "4905  2011                  United States   \n",
       "4906  2011                  United States   \n",
       "4907  2011                  United States   \n",
       "4908  2011                          Japan   \n",
       "4909  2011                          Japan   \n",
       "4910  2011                          Japan   \n",
       "4911  2011                          Japan   \n",
       "4912  2011                          Japan   \n",
       "4913  2011                          Japan   \n",
       "4914  2011                          Japan   \n",
       "4915  2011                          Japan   \n",
       "4916  2011                          Japan   \n",
       "4917  2011                          Japan   \n",
       "4918  2011                          Japan   \n",
       "4919  2011                          Japan   \n",
       "\n",
       "                                               INDIC_ED  Value  \n",
       "0     Total public expenditure on education as % of ...   5.10  \n",
       "1     Total public expenditure on education as % of ...   1.14  \n",
       "2     Total public expenditure on education as % of ...   2.32  \n",
       "3     Total public expenditure on education as % of ...   1.15  \n",
       "4     Total public expenditure on education as % of ...   0.50  \n",
       "5     Expenditure on educational institutions from p...   4.80  \n",
       "6     Public subsidies to the private sector as % of...   0.30  \n",
       "7     Total public expenditure on education as % of ...  11.03  \n",
       "8     Expenditure on educational institutions from p...  10.38  \n",
       "9     Public subsidies to the private sector as % of...   0.65  \n",
       "10    Expenditure on educational institutions from p...   0.60  \n",
       "11    Total public expenditure on education as % of ...   5.14  \n",
       "12    Total public expenditure on education as % of ...   5.12  \n",
       "13    Total public expenditure on education as % of ...      :  \n",
       "14    Total public expenditure on education as % of ...      :  \n",
       "15    Total public expenditure on education as % of ...      :  \n",
       "16    Total public expenditure on education as % of ...      :  \n",
       "17    Expenditure on educational institutions from p...      :  \n",
       "18    Public subsidies to the private sector as % of...      :  \n",
       "19    Total public expenditure on education as % of ...      :  \n",
       "20    Expenditure on educational institutions from p...      :  \n",
       "21    Public subsidies to the private sector as % of...      :  \n",
       "22    Expenditure on educational institutions from p...      :  \n",
       "23    Total public expenditure on education as % of ...      :  \n",
       "24    Total public expenditure on education as % of ...   4.99  \n",
       "25    Total public expenditure on education as % of ...   1.07  \n",
       "26    Total public expenditure on education as % of ...   2.32  \n",
       "27    Total public expenditure on education as % of ...   1.12  \n",
       "28    Total public expenditure on education as % of ...   0.49  \n",
       "29    Expenditure on educational institutions from p...   4.73  \n",
       "...                                                 ...    ...  \n",
       "4890  Public subsidies to the private sector as % of...      :  \n",
       "4891  Total public expenditure on education as % of ...      :  \n",
       "4892  Expenditure on educational institutions from p...      :  \n",
       "4893  Public subsidies to the private sector as % of...      :  \n",
       "4894  Expenditure on educational institutions from p...      :  \n",
       "4895  Total public expenditure on education as % of ...      :  \n",
       "4896  Total public expenditure on education as % of ...      :  \n",
       "4897  Total public expenditure on education as % of ...      :  \n",
       "4898  Total public expenditure on education as % of ...      :  \n",
       "4899  Total public expenditure on education as % of ...      :  \n",
       "4900  Total public expenditure on education as % of ...      :  \n",
       "4901  Expenditure on educational institutions from p...      :  \n",
       "4902  Public subsidies to the private sector as % of...      :  \n",
       "4903  Total public expenditure on education as % of ...      :  \n",
       "4904  Expenditure on educational institutions from p...      :  \n",
       "4905  Public subsidies to the private sector as % of...      :  \n",
       "4906  Expenditure on educational institutions from p...      :  \n",
       "4907  Total public expenditure on education as % of ...      :  \n",
       "4908  Total public expenditure on education as % of ...   3.78  \n",
       "4909  Total public expenditure on education as % of ...   1.27  \n",
       "4910  Total public expenditure on education as % of ...   1.44  \n",
       "4911  Total public expenditure on education as % of ...   0.76  \n",
       "4912  Total public expenditure on education as % of ...   0.31  \n",
       "4913  Expenditure on educational institutions from p...   3.56  \n",
       "4914  Public subsidies to the private sector as % of...   0.23  \n",
       "4915  Total public expenditure on education as % of ...      :  \n",
       "4916  Expenditure on educational institutions from p...      :  \n",
       "4917  Public subsidies to the private sector as % of...      :  \n",
       "4918  Expenditure on educational institutions from p...   1.56  \n",
       "4919  Total public expenditure on education as % of ...   3.67  \n",
       "\n",
       "[4920 rows x 4 columns]>"
      ]
     },
     "execution_count": 81,
     "metadata": {},
     "output_type": "execute_result"
    }
   ],
   "source": [
    "edufile = 'data/educ_figdp_1_Data.csv'\n",
    "\n",
    "df_edufile = pd.read_csv(edufile)\n",
    "df_edufile.shape\n",
    "df_edufile.head()\n",
    "df_edufile.tail()\n",
    "df_edufile.describe"
   ]
  },
  {
   "cell_type": "code",
   "execution_count": null,
   "metadata": {},
   "outputs": [],
   "source": []
  }
 ],
 "metadata": {
  "kernelspec": {
   "display_name": "Python 3",
   "language": "python",
   "name": "python3"
  },
  "language_info": {
   "codemirror_mode": {
    "name": "ipython",
    "version": 3
   },
   "file_extension": ".py",
   "mimetype": "text/x-python",
   "name": "python",
   "nbconvert_exporter": "python",
   "pygments_lexer": "ipython3",
   "version": "3.7.3"
  }
 },
 "nbformat": 4,
 "nbformat_minor": 2
}
